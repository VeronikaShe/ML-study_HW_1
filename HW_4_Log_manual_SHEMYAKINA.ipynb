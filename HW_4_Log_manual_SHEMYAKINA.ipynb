{
  "nbformat": 4,
  "nbformat_minor": 0,
  "metadata": {
    "colab": {
      "provenance": [],
      "authorship_tag": "ABX9TyNZUC3HPyoWZKDxTo1pVwaT",
      "include_colab_link": true
    },
    "kernelspec": {
      "name": "python3",
      "display_name": "Python 3"
    },
    "language_info": {
      "name": "python"
    }
  },
  "cells": [
    {
      "cell_type": "markdown",
      "metadata": {
        "id": "view-in-github",
        "colab_type": "text"
      },
      "source": [
        "<a href=\"https://colab.research.google.com/github/VeronikaShe/ML-study_HW_1/blob/main/HW_4_Log_manual_SHEMYAKINA.ipynb\" target=\"_parent\"><img src=\"https://colab.research.google.com/assets/colab-badge.svg\" alt=\"Open In Colab\"/></a>"
      ]
    },
    {
      "cell_type": "markdown",
      "metadata": {
        "id": "0PQ91uuFG8mj"
      },
      "source": [
        "### Пункт 1\n",
        "\n",
        "- Загружаем данные.\n",
        "\n",
        "- Используем датасет с ирисами. Оставляем только 2 класса: Iris Versicolor, Iris Virginica.\n"
      ]
    },
    {
      "cell_type": "code",
      "metadata": {
        "id": "gV3A-0MtG8mW"
      },
      "source": [
        "import numpy as np\n",
        "import pandas as pd # Для работы с данными\n",
        "import scipy.stats # При работе со статистикой\n",
        "import matplotlib.pyplot as plt  # Библиотека для визуализации результатов\n",
        "import seaborn as sns\n",
        "from sklearn.preprocessing import LabelEncoder\n",
        "from sklearn.model_selection import train_test_split"
      ],
      "execution_count": 2,
      "outputs": []
    },
    {
      "cell_type": "code",
      "source": [
        "from sklearn import datasets\n",
        "from sklearn.linear_model import LogisticRegression\n",
        "from sklearn.svm import SVC"
      ],
      "metadata": {
        "id": "pho_bO5I4lbV"
      },
      "execution_count": 3,
      "outputs": []
    },
    {
      "cell_type": "code",
      "source": [
        "iris = datasets.load_iris()\n",
        "iris"
      ],
      "metadata": {
        "colab": {
          "base_uri": "https://localhost:8080/"
        },
        "id": "967w4IEy4uww",
        "outputId": "da5c5f31-c6f6-4ee5-e594-1f8afda9ab65"
      },
      "execution_count": 4,
      "outputs": [
        {
          "output_type": "execute_result",
          "data": {
            "text/plain": [
              "{'data': array([[5.1, 3.5, 1.4, 0.2],\n",
              "        [4.9, 3. , 1.4, 0.2],\n",
              "        [4.7, 3.2, 1.3, 0.2],\n",
              "        [4.6, 3.1, 1.5, 0.2],\n",
              "        [5. , 3.6, 1.4, 0.2],\n",
              "        [5.4, 3.9, 1.7, 0.4],\n",
              "        [4.6, 3.4, 1.4, 0.3],\n",
              "        [5. , 3.4, 1.5, 0.2],\n",
              "        [4.4, 2.9, 1.4, 0.2],\n",
              "        [4.9, 3.1, 1.5, 0.1],\n",
              "        [5.4, 3.7, 1.5, 0.2],\n",
              "        [4.8, 3.4, 1.6, 0.2],\n",
              "        [4.8, 3. , 1.4, 0.1],\n",
              "        [4.3, 3. , 1.1, 0.1],\n",
              "        [5.8, 4. , 1.2, 0.2],\n",
              "        [5.7, 4.4, 1.5, 0.4],\n",
              "        [5.4, 3.9, 1.3, 0.4],\n",
              "        [5.1, 3.5, 1.4, 0.3],\n",
              "        [5.7, 3.8, 1.7, 0.3],\n",
              "        [5.1, 3.8, 1.5, 0.3],\n",
              "        [5.4, 3.4, 1.7, 0.2],\n",
              "        [5.1, 3.7, 1.5, 0.4],\n",
              "        [4.6, 3.6, 1. , 0.2],\n",
              "        [5.1, 3.3, 1.7, 0.5],\n",
              "        [4.8, 3.4, 1.9, 0.2],\n",
              "        [5. , 3. , 1.6, 0.2],\n",
              "        [5. , 3.4, 1.6, 0.4],\n",
              "        [5.2, 3.5, 1.5, 0.2],\n",
              "        [5.2, 3.4, 1.4, 0.2],\n",
              "        [4.7, 3.2, 1.6, 0.2],\n",
              "        [4.8, 3.1, 1.6, 0.2],\n",
              "        [5.4, 3.4, 1.5, 0.4],\n",
              "        [5.2, 4.1, 1.5, 0.1],\n",
              "        [5.5, 4.2, 1.4, 0.2],\n",
              "        [4.9, 3.1, 1.5, 0.2],\n",
              "        [5. , 3.2, 1.2, 0.2],\n",
              "        [5.5, 3.5, 1.3, 0.2],\n",
              "        [4.9, 3.6, 1.4, 0.1],\n",
              "        [4.4, 3. , 1.3, 0.2],\n",
              "        [5.1, 3.4, 1.5, 0.2],\n",
              "        [5. , 3.5, 1.3, 0.3],\n",
              "        [4.5, 2.3, 1.3, 0.3],\n",
              "        [4.4, 3.2, 1.3, 0.2],\n",
              "        [5. , 3.5, 1.6, 0.6],\n",
              "        [5.1, 3.8, 1.9, 0.4],\n",
              "        [4.8, 3. , 1.4, 0.3],\n",
              "        [5.1, 3.8, 1.6, 0.2],\n",
              "        [4.6, 3.2, 1.4, 0.2],\n",
              "        [5.3, 3.7, 1.5, 0.2],\n",
              "        [5. , 3.3, 1.4, 0.2],\n",
              "        [7. , 3.2, 4.7, 1.4],\n",
              "        [6.4, 3.2, 4.5, 1.5],\n",
              "        [6.9, 3.1, 4.9, 1.5],\n",
              "        [5.5, 2.3, 4. , 1.3],\n",
              "        [6.5, 2.8, 4.6, 1.5],\n",
              "        [5.7, 2.8, 4.5, 1.3],\n",
              "        [6.3, 3.3, 4.7, 1.6],\n",
              "        [4.9, 2.4, 3.3, 1. ],\n",
              "        [6.6, 2.9, 4.6, 1.3],\n",
              "        [5.2, 2.7, 3.9, 1.4],\n",
              "        [5. , 2. , 3.5, 1. ],\n",
              "        [5.9, 3. , 4.2, 1.5],\n",
              "        [6. , 2.2, 4. , 1. ],\n",
              "        [6.1, 2.9, 4.7, 1.4],\n",
              "        [5.6, 2.9, 3.6, 1.3],\n",
              "        [6.7, 3.1, 4.4, 1.4],\n",
              "        [5.6, 3. , 4.5, 1.5],\n",
              "        [5.8, 2.7, 4.1, 1. ],\n",
              "        [6.2, 2.2, 4.5, 1.5],\n",
              "        [5.6, 2.5, 3.9, 1.1],\n",
              "        [5.9, 3.2, 4.8, 1.8],\n",
              "        [6.1, 2.8, 4. , 1.3],\n",
              "        [6.3, 2.5, 4.9, 1.5],\n",
              "        [6.1, 2.8, 4.7, 1.2],\n",
              "        [6.4, 2.9, 4.3, 1.3],\n",
              "        [6.6, 3. , 4.4, 1.4],\n",
              "        [6.8, 2.8, 4.8, 1.4],\n",
              "        [6.7, 3. , 5. , 1.7],\n",
              "        [6. , 2.9, 4.5, 1.5],\n",
              "        [5.7, 2.6, 3.5, 1. ],\n",
              "        [5.5, 2.4, 3.8, 1.1],\n",
              "        [5.5, 2.4, 3.7, 1. ],\n",
              "        [5.8, 2.7, 3.9, 1.2],\n",
              "        [6. , 2.7, 5.1, 1.6],\n",
              "        [5.4, 3. , 4.5, 1.5],\n",
              "        [6. , 3.4, 4.5, 1.6],\n",
              "        [6.7, 3.1, 4.7, 1.5],\n",
              "        [6.3, 2.3, 4.4, 1.3],\n",
              "        [5.6, 3. , 4.1, 1.3],\n",
              "        [5.5, 2.5, 4. , 1.3],\n",
              "        [5.5, 2.6, 4.4, 1.2],\n",
              "        [6.1, 3. , 4.6, 1.4],\n",
              "        [5.8, 2.6, 4. , 1.2],\n",
              "        [5. , 2.3, 3.3, 1. ],\n",
              "        [5.6, 2.7, 4.2, 1.3],\n",
              "        [5.7, 3. , 4.2, 1.2],\n",
              "        [5.7, 2.9, 4.2, 1.3],\n",
              "        [6.2, 2.9, 4.3, 1.3],\n",
              "        [5.1, 2.5, 3. , 1.1],\n",
              "        [5.7, 2.8, 4.1, 1.3],\n",
              "        [6.3, 3.3, 6. , 2.5],\n",
              "        [5.8, 2.7, 5.1, 1.9],\n",
              "        [7.1, 3. , 5.9, 2.1],\n",
              "        [6.3, 2.9, 5.6, 1.8],\n",
              "        [6.5, 3. , 5.8, 2.2],\n",
              "        [7.6, 3. , 6.6, 2.1],\n",
              "        [4.9, 2.5, 4.5, 1.7],\n",
              "        [7.3, 2.9, 6.3, 1.8],\n",
              "        [6.7, 2.5, 5.8, 1.8],\n",
              "        [7.2, 3.6, 6.1, 2.5],\n",
              "        [6.5, 3.2, 5.1, 2. ],\n",
              "        [6.4, 2.7, 5.3, 1.9],\n",
              "        [6.8, 3. , 5.5, 2.1],\n",
              "        [5.7, 2.5, 5. , 2. ],\n",
              "        [5.8, 2.8, 5.1, 2.4],\n",
              "        [6.4, 3.2, 5.3, 2.3],\n",
              "        [6.5, 3. , 5.5, 1.8],\n",
              "        [7.7, 3.8, 6.7, 2.2],\n",
              "        [7.7, 2.6, 6.9, 2.3],\n",
              "        [6. , 2.2, 5. , 1.5],\n",
              "        [6.9, 3.2, 5.7, 2.3],\n",
              "        [5.6, 2.8, 4.9, 2. ],\n",
              "        [7.7, 2.8, 6.7, 2. ],\n",
              "        [6.3, 2.7, 4.9, 1.8],\n",
              "        [6.7, 3.3, 5.7, 2.1],\n",
              "        [7.2, 3.2, 6. , 1.8],\n",
              "        [6.2, 2.8, 4.8, 1.8],\n",
              "        [6.1, 3. , 4.9, 1.8],\n",
              "        [6.4, 2.8, 5.6, 2.1],\n",
              "        [7.2, 3. , 5.8, 1.6],\n",
              "        [7.4, 2.8, 6.1, 1.9],\n",
              "        [7.9, 3.8, 6.4, 2. ],\n",
              "        [6.4, 2.8, 5.6, 2.2],\n",
              "        [6.3, 2.8, 5.1, 1.5],\n",
              "        [6.1, 2.6, 5.6, 1.4],\n",
              "        [7.7, 3. , 6.1, 2.3],\n",
              "        [6.3, 3.4, 5.6, 2.4],\n",
              "        [6.4, 3.1, 5.5, 1.8],\n",
              "        [6. , 3. , 4.8, 1.8],\n",
              "        [6.9, 3.1, 5.4, 2.1],\n",
              "        [6.7, 3.1, 5.6, 2.4],\n",
              "        [6.9, 3.1, 5.1, 2.3],\n",
              "        [5.8, 2.7, 5.1, 1.9],\n",
              "        [6.8, 3.2, 5.9, 2.3],\n",
              "        [6.7, 3.3, 5.7, 2.5],\n",
              "        [6.7, 3. , 5.2, 2.3],\n",
              "        [6.3, 2.5, 5. , 1.9],\n",
              "        [6.5, 3. , 5.2, 2. ],\n",
              "        [6.2, 3.4, 5.4, 2.3],\n",
              "        [5.9, 3. , 5.1, 1.8]]),\n",
              " 'target': array([0, 0, 0, 0, 0, 0, 0, 0, 0, 0, 0, 0, 0, 0, 0, 0, 0, 0, 0, 0, 0, 0,\n",
              "        0, 0, 0, 0, 0, 0, 0, 0, 0, 0, 0, 0, 0, 0, 0, 0, 0, 0, 0, 0, 0, 0,\n",
              "        0, 0, 0, 0, 0, 0, 1, 1, 1, 1, 1, 1, 1, 1, 1, 1, 1, 1, 1, 1, 1, 1,\n",
              "        1, 1, 1, 1, 1, 1, 1, 1, 1, 1, 1, 1, 1, 1, 1, 1, 1, 1, 1, 1, 1, 1,\n",
              "        1, 1, 1, 1, 1, 1, 1, 1, 1, 1, 1, 1, 2, 2, 2, 2, 2, 2, 2, 2, 2, 2,\n",
              "        2, 2, 2, 2, 2, 2, 2, 2, 2, 2, 2, 2, 2, 2, 2, 2, 2, 2, 2, 2, 2, 2,\n",
              "        2, 2, 2, 2, 2, 2, 2, 2, 2, 2, 2, 2, 2, 2, 2, 2, 2, 2]),\n",
              " 'frame': None,\n",
              " 'target_names': array(['setosa', 'versicolor', 'virginica'], dtype='<U10'),\n",
              " 'DESCR': '.. _iris_dataset:\\n\\nIris plants dataset\\n--------------------\\n\\n**Data Set Characteristics:**\\n\\n:Number of Instances: 150 (50 in each of three classes)\\n:Number of Attributes: 4 numeric, predictive attributes and the class\\n:Attribute Information:\\n    - sepal length in cm\\n    - sepal width in cm\\n    - petal length in cm\\n    - petal width in cm\\n    - class:\\n            - Iris-Setosa\\n            - Iris-Versicolour\\n            - Iris-Virginica\\n\\n:Summary Statistics:\\n\\n============== ==== ==== ======= ===== ====================\\n                Min  Max   Mean    SD   Class Correlation\\n============== ==== ==== ======= ===== ====================\\nsepal length:   4.3  7.9   5.84   0.83    0.7826\\nsepal width:    2.0  4.4   3.05   0.43   -0.4194\\npetal length:   1.0  6.9   3.76   1.76    0.9490  (high!)\\npetal width:    0.1  2.5   1.20   0.76    0.9565  (high!)\\n============== ==== ==== ======= ===== ====================\\n\\n:Missing Attribute Values: None\\n:Class Distribution: 33.3% for each of 3 classes.\\n:Creator: R.A. Fisher\\n:Donor: Michael Marshall (MARSHALL%PLU@io.arc.nasa.gov)\\n:Date: July, 1988\\n\\nThe famous Iris database, first used by Sir R.A. Fisher. The dataset is taken\\nfrom Fisher\\'s paper. Note that it\\'s the same as in R, but not as in the UCI\\nMachine Learning Repository, which has two wrong data points.\\n\\nThis is perhaps the best known database to be found in the\\npattern recognition literature.  Fisher\\'s paper is a classic in the field and\\nis referenced frequently to this day.  (See Duda & Hart, for example.)  The\\ndata set contains 3 classes of 50 instances each, where each class refers to a\\ntype of iris plant.  One class is linearly separable from the other 2; the\\nlatter are NOT linearly separable from each other.\\n\\n.. dropdown:: References\\n\\n  - Fisher, R.A. \"The use of multiple measurements in taxonomic problems\"\\n    Annual Eugenics, 7, Part II, 179-188 (1936); also in \"Contributions to\\n    Mathematical Statistics\" (John Wiley, NY, 1950).\\n  - Duda, R.O., & Hart, P.E. (1973) Pattern Classification and Scene Analysis.\\n    (Q327.D83) John Wiley & Sons.  ISBN 0-471-22361-1.  See page 218.\\n  - Dasarathy, B.V. (1980) \"Nosing Around the Neighborhood: A New System\\n    Structure and Classification Rule for Recognition in Partially Exposed\\n    Environments\".  IEEE Transactions on Pattern Analysis and Machine\\n    Intelligence, Vol. PAMI-2, No. 1, 67-71.\\n  - Gates, G.W. (1972) \"The Reduced Nearest Neighbor Rule\".  IEEE Transactions\\n    on Information Theory, May 1972, 431-433.\\n  - See also: 1988 MLC Proceedings, 54-64.  Cheeseman et al\"s AUTOCLASS II\\n    conceptual clustering system finds 3 classes in the data.\\n  - Many, many more ...\\n',\n",
              " 'feature_names': ['sepal length (cm)',\n",
              "  'sepal width (cm)',\n",
              "  'petal length (cm)',\n",
              "  'petal width (cm)'],\n",
              " 'filename': 'iris.csv',\n",
              " 'data_module': 'sklearn.datasets.data'}"
            ]
          },
          "metadata": {},
          "execution_count": 4
        }
      ]
    },
    {
      "cell_type": "code",
      "metadata": {
        "colab": {
          "base_uri": "https://localhost:8080/"
        },
        "id": "iJgcTGp9G8mk",
        "outputId": "e536ba94-3ce9-4b70-bd4f-24f46e7f008d"
      },
      "source": [
        "# датасет\n",
        "X = iris.data[50:,1:3] # забираем данные из датасета\n",
        "y = iris.target[50:]\n",
        "X,y"
      ],
      "execution_count": 98,
      "outputs": [
        {
          "output_type": "execute_result",
          "data": {
            "text/plain": [
              "(array([[3.2, 4.7],\n",
              "        [3.2, 4.5],\n",
              "        [3.1, 4.9],\n",
              "        [2.3, 4. ],\n",
              "        [2.8, 4.6],\n",
              "        [2.8, 4.5],\n",
              "        [3.3, 4.7],\n",
              "        [2.4, 3.3],\n",
              "        [2.9, 4.6],\n",
              "        [2.7, 3.9],\n",
              "        [2. , 3.5],\n",
              "        [3. , 4.2],\n",
              "        [2.2, 4. ],\n",
              "        [2.9, 4.7],\n",
              "        [2.9, 3.6],\n",
              "        [3.1, 4.4],\n",
              "        [3. , 4.5],\n",
              "        [2.7, 4.1],\n",
              "        [2.2, 4.5],\n",
              "        [2.5, 3.9],\n",
              "        [3.2, 4.8],\n",
              "        [2.8, 4. ],\n",
              "        [2.5, 4.9],\n",
              "        [2.8, 4.7],\n",
              "        [2.9, 4.3],\n",
              "        [3. , 4.4],\n",
              "        [2.8, 4.8],\n",
              "        [3. , 5. ],\n",
              "        [2.9, 4.5],\n",
              "        [2.6, 3.5],\n",
              "        [2.4, 3.8],\n",
              "        [2.4, 3.7],\n",
              "        [2.7, 3.9],\n",
              "        [2.7, 5.1],\n",
              "        [3. , 4.5],\n",
              "        [3.4, 4.5],\n",
              "        [3.1, 4.7],\n",
              "        [2.3, 4.4],\n",
              "        [3. , 4.1],\n",
              "        [2.5, 4. ],\n",
              "        [2.6, 4.4],\n",
              "        [3. , 4.6],\n",
              "        [2.6, 4. ],\n",
              "        [2.3, 3.3],\n",
              "        [2.7, 4.2],\n",
              "        [3. , 4.2],\n",
              "        [2.9, 4.2],\n",
              "        [2.9, 4.3],\n",
              "        [2.5, 3. ],\n",
              "        [2.8, 4.1],\n",
              "        [3.3, 6. ],\n",
              "        [2.7, 5.1],\n",
              "        [3. , 5.9],\n",
              "        [2.9, 5.6],\n",
              "        [3. , 5.8],\n",
              "        [3. , 6.6],\n",
              "        [2.5, 4.5],\n",
              "        [2.9, 6.3],\n",
              "        [2.5, 5.8],\n",
              "        [3.6, 6.1],\n",
              "        [3.2, 5.1],\n",
              "        [2.7, 5.3],\n",
              "        [3. , 5.5],\n",
              "        [2.5, 5. ],\n",
              "        [2.8, 5.1],\n",
              "        [3.2, 5.3],\n",
              "        [3. , 5.5],\n",
              "        [3.8, 6.7],\n",
              "        [2.6, 6.9],\n",
              "        [2.2, 5. ],\n",
              "        [3.2, 5.7],\n",
              "        [2.8, 4.9],\n",
              "        [2.8, 6.7],\n",
              "        [2.7, 4.9],\n",
              "        [3.3, 5.7],\n",
              "        [3.2, 6. ],\n",
              "        [2.8, 4.8],\n",
              "        [3. , 4.9],\n",
              "        [2.8, 5.6],\n",
              "        [3. , 5.8],\n",
              "        [2.8, 6.1],\n",
              "        [3.8, 6.4],\n",
              "        [2.8, 5.6],\n",
              "        [2.8, 5.1],\n",
              "        [2.6, 5.6],\n",
              "        [3. , 6.1],\n",
              "        [3.4, 5.6],\n",
              "        [3.1, 5.5],\n",
              "        [3. , 4.8],\n",
              "        [3.1, 5.4],\n",
              "        [3.1, 5.6],\n",
              "        [3.1, 5.1],\n",
              "        [2.7, 5.1],\n",
              "        [3.2, 5.9],\n",
              "        [3.3, 5.7],\n",
              "        [3. , 5.2],\n",
              "        [2.5, 5. ],\n",
              "        [3. , 5.2],\n",
              "        [3.4, 5.4],\n",
              "        [3. , 5.1]]),\n",
              " array([1, 1, 1, 1, 1, 1, 1, 1, 1, 1, 1, 1, 1, 1, 1, 1, 1, 1, 1, 1, 1, 1,\n",
              "        1, 1, 1, 1, 1, 1, 1, 1, 1, 1, 1, 1, 1, 1, 1, 1, 1, 1, 1, 1, 1, 1,\n",
              "        1, 1, 1, 1, 1, 1, 2, 2, 2, 2, 2, 2, 2, 2, 2, 2, 2, 2, 2, 2, 2, 2,\n",
              "        2, 2, 2, 2, 2, 2, 2, 2, 2, 2, 2, 2, 2, 2, 2, 2, 2, 2, 2, 2, 2, 2,\n",
              "        2, 2, 2, 2, 2, 2, 2, 2, 2, 2, 2, 2]))"
            ]
          },
          "metadata": {},
          "execution_count": 98
        }
      ]
    },
    {
      "cell_type": "code",
      "source": [
        "y = np.where(y == 2, 1, 0)\n",
        "y"
      ],
      "metadata": {
        "colab": {
          "base_uri": "https://localhost:8080/"
        },
        "id": "I_0c7XVsMC7g",
        "outputId": "eab98f71-eccf-490e-d294-1c734702de84"
      },
      "execution_count": 96,
      "outputs": [
        {
          "output_type": "execute_result",
          "data": {
            "text/plain": [
              "array([0, 0, 0, 0, 0, 0, 0, 0, 0, 0, 0, 0, 0, 0, 0, 0, 0, 0, 0, 0, 0, 0,\n",
              "       0, 0, 0, 0, 0, 0, 0, 0, 0, 0, 0, 0, 0, 0, 0, 0, 0, 0, 0, 0, 0, 0,\n",
              "       0, 0, 0, 0, 0, 0, 1, 1, 1, 1, 1, 1, 1, 1, 1, 1, 1, 1, 1, 1, 1, 1,\n",
              "       1, 1, 1, 1, 1, 1, 1, 1, 1, 1, 1, 1, 1, 1, 1, 1, 1, 1, 1, 1, 1, 1,\n",
              "       1, 1, 1, 1, 1, 1, 1, 1, 1, 1, 1, 1])"
            ]
          },
          "metadata": {},
          "execution_count": 96
        }
      ]
    },
    {
      "cell_type": "code",
      "source": [
        "X = np.c_[np.ones(len(X)), X]\n",
        "X"
      ],
      "metadata": {
        "colab": {
          "base_uri": "https://localhost:8080/"
        },
        "id": "qbjSNAlVYboi",
        "outputId": "be4e0603-726d-48d8-9978-f607f63b6240"
      },
      "execution_count": 99,
      "outputs": [
        {
          "output_type": "execute_result",
          "data": {
            "text/plain": [
              "array([[1. , 3.2, 4.7],\n",
              "       [1. , 3.2, 4.5],\n",
              "       [1. , 3.1, 4.9],\n",
              "       [1. , 2.3, 4. ],\n",
              "       [1. , 2.8, 4.6],\n",
              "       [1. , 2.8, 4.5],\n",
              "       [1. , 3.3, 4.7],\n",
              "       [1. , 2.4, 3.3],\n",
              "       [1. , 2.9, 4.6],\n",
              "       [1. , 2.7, 3.9],\n",
              "       [1. , 2. , 3.5],\n",
              "       [1. , 3. , 4.2],\n",
              "       [1. , 2.2, 4. ],\n",
              "       [1. , 2.9, 4.7],\n",
              "       [1. , 2.9, 3.6],\n",
              "       [1. , 3.1, 4.4],\n",
              "       [1. , 3. , 4.5],\n",
              "       [1. , 2.7, 4.1],\n",
              "       [1. , 2.2, 4.5],\n",
              "       [1. , 2.5, 3.9],\n",
              "       [1. , 3.2, 4.8],\n",
              "       [1. , 2.8, 4. ],\n",
              "       [1. , 2.5, 4.9],\n",
              "       [1. , 2.8, 4.7],\n",
              "       [1. , 2.9, 4.3],\n",
              "       [1. , 3. , 4.4],\n",
              "       [1. , 2.8, 4.8],\n",
              "       [1. , 3. , 5. ],\n",
              "       [1. , 2.9, 4.5],\n",
              "       [1. , 2.6, 3.5],\n",
              "       [1. , 2.4, 3.8],\n",
              "       [1. , 2.4, 3.7],\n",
              "       [1. , 2.7, 3.9],\n",
              "       [1. , 2.7, 5.1],\n",
              "       [1. , 3. , 4.5],\n",
              "       [1. , 3.4, 4.5],\n",
              "       [1. , 3.1, 4.7],\n",
              "       [1. , 2.3, 4.4],\n",
              "       [1. , 3. , 4.1],\n",
              "       [1. , 2.5, 4. ],\n",
              "       [1. , 2.6, 4.4],\n",
              "       [1. , 3. , 4.6],\n",
              "       [1. , 2.6, 4. ],\n",
              "       [1. , 2.3, 3.3],\n",
              "       [1. , 2.7, 4.2],\n",
              "       [1. , 3. , 4.2],\n",
              "       [1. , 2.9, 4.2],\n",
              "       [1. , 2.9, 4.3],\n",
              "       [1. , 2.5, 3. ],\n",
              "       [1. , 2.8, 4.1],\n",
              "       [1. , 3.3, 6. ],\n",
              "       [1. , 2.7, 5.1],\n",
              "       [1. , 3. , 5.9],\n",
              "       [1. , 2.9, 5.6],\n",
              "       [1. , 3. , 5.8],\n",
              "       [1. , 3. , 6.6],\n",
              "       [1. , 2.5, 4.5],\n",
              "       [1. , 2.9, 6.3],\n",
              "       [1. , 2.5, 5.8],\n",
              "       [1. , 3.6, 6.1],\n",
              "       [1. , 3.2, 5.1],\n",
              "       [1. , 2.7, 5.3],\n",
              "       [1. , 3. , 5.5],\n",
              "       [1. , 2.5, 5. ],\n",
              "       [1. , 2.8, 5.1],\n",
              "       [1. , 3.2, 5.3],\n",
              "       [1. , 3. , 5.5],\n",
              "       [1. , 3.8, 6.7],\n",
              "       [1. , 2.6, 6.9],\n",
              "       [1. , 2.2, 5. ],\n",
              "       [1. , 3.2, 5.7],\n",
              "       [1. , 2.8, 4.9],\n",
              "       [1. , 2.8, 6.7],\n",
              "       [1. , 2.7, 4.9],\n",
              "       [1. , 3.3, 5.7],\n",
              "       [1. , 3.2, 6. ],\n",
              "       [1. , 2.8, 4.8],\n",
              "       [1. , 3. , 4.9],\n",
              "       [1. , 2.8, 5.6],\n",
              "       [1. , 3. , 5.8],\n",
              "       [1. , 2.8, 6.1],\n",
              "       [1. , 3.8, 6.4],\n",
              "       [1. , 2.8, 5.6],\n",
              "       [1. , 2.8, 5.1],\n",
              "       [1. , 2.6, 5.6],\n",
              "       [1. , 3. , 6.1],\n",
              "       [1. , 3.4, 5.6],\n",
              "       [1. , 3.1, 5.5],\n",
              "       [1. , 3. , 4.8],\n",
              "       [1. , 3.1, 5.4],\n",
              "       [1. , 3.1, 5.6],\n",
              "       [1. , 3.1, 5.1],\n",
              "       [1. , 2.7, 5.1],\n",
              "       [1. , 3.2, 5.9],\n",
              "       [1. , 3.3, 5.7],\n",
              "       [1. , 3. , 5.2],\n",
              "       [1. , 2.5, 5. ],\n",
              "       [1. , 3. , 5.2],\n",
              "       [1. , 3.4, 5.4],\n",
              "       [1. , 3. , 5.1]])"
            ]
          },
          "metadata": {},
          "execution_count": 99
        }
      ]
    },
    {
      "cell_type": "code",
      "source": [
        "plt.figure(figsize=(10, 6))\n",
        "plt.scatter(X[:, 1], X[:, 2], c=y);"
      ],
      "metadata": {
        "colab": {
          "base_uri": "https://localhost:8080/",
          "height": 522
        },
        "id": "RUWJmPEgwoED",
        "outputId": "df53b381-9234-4e1e-bb1f-6c449a0ee4ed"
      },
      "execution_count": 100,
      "outputs": [
        {
          "output_type": "display_data",
          "data": {
            "text/plain": [
              "<Figure size 1000x600 with 1 Axes>"
            ],
            "image/png": "[encoded data removed]"
          },
          "metadata": {}
        }
      ]
    },
    {
      "cell_type": "markdown",
      "source": [
        "Реализуем функцию:\n",
        "\n",
        "logloss - функция логистической функции потерь (cross entropy)  logloss=−1n∑(yi⋅log(pi)+(1−yi)⋅log(1−pi))\n",
        "gr_logloss - градиент функции logloss записанные в матричном виде.  XT(σ(XW)−Y)"
      ],
      "metadata": {
        "id": "1pRk9oVw82YV"
      }
    },
    {
      "cell_type": "code",
      "metadata": {
        "id": "JzbVvH7DG8ml"
      },
      "source": [
        "def sigmoid(x):\n",
        "    return 1 / (1 + np.exp(-x))\n",
        "\n",
        "\n",
        "def logloss(y, y_proba):\n",
        "    logloss_1 = np.sum(np.log(y_proba[y == 1] + 1e-30))\n",
        "    logloss_0 = np.sum(np.log(1 - y_proba[y == 0] + 1e-30))\n",
        "    logloss_total = -(logloss_0 + logloss_1) / len(y)\n",
        "    return logloss_total\n",
        "\n",
        "\n",
        "def gr_logloss(X, W, y):\n",
        "    y_proba = sigmoid(X @ W)\n",
        "    grad = X.T @ (y_proba - y)\n",
        "    return grad"
      ],
      "execution_count": 76,
      "outputs": []
    },
    {
      "cell_type": "code",
      "source": [
        "x_min, x_max = X[:,0].min() - .5, X[:,0].max() + .5\n",
        "y_min, y_max = X[:,1].min() - .5, X[:,1].max() + .5\n",
        "\n",
        "h = .02\n",
        "xx, yy = np.meshgrid(np.arange(x_min, x_max, h), np.arange(y_min, y_max, h))\n",
        "\n",
        "x_t = np.c_[xx.ravel(),yy.ravel()]\n"
      ],
      "metadata": {
        "id": "qslzZ8da-B1K"
      },
      "execution_count": 101,
      "outputs": []
    },
    {
      "cell_type": "code",
      "source": [
        "def visualize(W):\n",
        "    x_t_ones = np.c_[np.ones(x_t.shape[0]), x_t]\n",
        "\n",
        "    y_proba = sigmoid(x_t_ones @ W)\n",
        "    Z = np.where(y_proba >= 0.5, 1, 0)\n",
        "\n",
        "    Z = Z.reshape(xx.shape)\n",
        "\n",
        "    plt.figure(1, figsize=(8,8))\n",
        "    plt.pcolormesh(xx,yy,Z,cmap=plt.cm.Paired)\n",
        "\n",
        "    plt.scatter(X[y == 0][:, 1], X[y == 0][:, 2], edgecolors='k')\n",
        "    plt.scatter(X[y == 1][:, 1], X[y == 1][:, 2], edgecolors='k')\n",
        "\n",
        "    plt.xlim(xx.min(), xx.max())\n",
        "    plt.ylim(yy.min(), yy.max())\n",
        "    plt.xticks()\n",
        "    plt.show()"
      ],
      "metadata": {
        "id": "TXMuVNy0YtpO"
      },
      "execution_count": 102,
      "outputs": []
    },
    {
      "cell_type": "code",
      "source": [
        "# установка минимального значения, на которое должны изменяться веса\n",
        "eps = 0.0001\n",
        "\n",
        "# первоначальное точка\n",
        "np.random.seed(5)\n",
        "W = np.random.randn(X.shape[1])\n",
        "\n",
        "# размер шага (learning rate)\n",
        "learning_rate = 0.0001\n",
        "\n",
        "next_W = W\n",
        "\n",
        "# количество итерация\n",
        "n = 500\n",
        "for i in range(n):\n",
        "    cur_W = next_W\n",
        "\n",
        "    # движение в негативную сторону вычисляемого градиента\n",
        "    next_W = cur_W - learning_rate * gr_logloss(X, W, y)\n",
        "\n",
        "    # остановка когда достигнута необходимая степень точности\n",
        "    if np.linalg.norm(cur_W - next_W) <= eps:\n",
        "        break\n",
        "\n",
        "    if i % 70 == 0:\n",
        "        print(f\"Итерация: {i}\")\n",
        "        # print(f\"Текущая точка {cur_W}| Следующая точка {next_W}\")\n",
        "        y_proba = sigmoid(X @ next_W)\n",
        "        y_class = np.where(y_proba >= 0.5, 1, 0)\n",
        "        accuracy = (y_class == y).sum() / len(y)\n",
        "        print (cur_W)\n",
        "        print (next_W)\n",
        "        print(f\"Logloss {logloss(y, y_proba)}\")\n",
        "        print(f\"Accuracy {accuracy}\")\n",
        "        print(\"--------------------------------------------------------\")\n",
        "\n",
        "        visualize(next_W)"
      ],
      "metadata": {
        "colab": {
          "base_uri": "https://localhost:8080/",
          "height": 1000
        },
        "id": "8rHINxwdYy1E",
        "outputId": "f1d9dc5f-9a58-4c57-cdd3-9ebda5101b63"
      },
      "execution_count": 103,
      "outputs": [
        {
          "output_type": "stream",
          "name": "stdout",
          "text": [
            "Итерация: 0\n",
            "[ 0.44122749 -0.33087015  2.43077119]\n",
            "[ 0.44622801 -0.3159988   2.45853314]\n",
            "Logloss 4.342935726613279e-05\n",
            "Accuracy 0.5\n",
            "--------------------------------------------------------\n"
          ]
        },
        {
          "output_type": "display_data",
          "data": {
            "text/plain": [
              "<Figure size 800x800 with 1 Axes>"
            ],
            "image/png": "[encoded data removed]"
          },
          "metadata": {}
        },
        {
          "output_type": "stream",
          "name": "stdout",
          "text": [
            "Итерация: 70\n",
            "[0.79126418 0.71012462 4.37410768]\n",
            "[0.7962647  0.72499598 4.40186963]\n",
            "Logloss 2.9337195428657285e-09\n",
            "Accuracy 0.5\n",
            "--------------------------------------------------------\n"
          ]
        },
        {
          "output_type": "display_data",
          "data": {
            "text/plain": [
              "<Figure size 800x800 with 1 Axes>"
            ],
            "image/png": "[encoded data removed]"
          },
          "metadata": {}
        },
        {
          "output_type": "stream",
          "name": "stdout",
          "text": [
            "Итерация: 140\n",
            "[1.14130087 1.7511194  6.31744417]\n",
            "[1.1463014  1.76599076 6.34520612]\n",
            "Logloss 3.284195138088169e-13\n",
            "Accuracy 0.5\n",
            "--------------------------------------------------------\n"
          ]
        },
        {
          "output_type": "display_data",
          "data": {
            "text/plain": [
              "<Figure size 800x800 with 1 Axes>"
            ],
            "image/png": "[encoded data removed]"
          },
          "metadata": {}
        },
        {
          "output_type": "stream",
          "name": "stdout",
          "text": [
            "Итерация: 210\n",
            "[1.49133757 2.79211418 8.26078066]\n",
            "[1.49633809 2.80698553 8.28854261]\n",
            "Logloss 4.2188474935756e-17\n",
            "Accuracy 0.5\n",
            "--------------------------------------------------------\n"
          ]
        },
        {
          "output_type": "display_data",
          "data": {
            "text/plain": [
              "<Figure size 800x800 with 1 Axes>"
            ],
            "image/png": "[encoded data removed]"
          },
          "metadata": {}
        },
        {
          "output_type": "stream",
          "name": "stdout",
          "text": [
            "Итерация: 280\n",
            "[ 1.84137426  3.83310895 10.20411716]\n",
            "[ 1.84637478  3.84798031 10.23187911]\n",
            "Logloss -0.0\n",
            "Accuracy 0.5\n",
            "--------------------------------------------------------\n"
          ]
        },
        {
          "output_type": "display_data",
          "data": {
            "text/plain": [
              "<Figure size 800x800 with 1 Axes>"
            ],
            "image/png": "[encoded data removed]"
          },
          "metadata": {}
        },
        {
          "output_type": "stream",
          "name": "stdout",
          "text": [
            "Итерация: 350\n",
            "[ 2.19141095  4.87410373 12.14745365]\n",
            "[ 2.19641148  4.88897508 12.1752156 ]\n",
            "Logloss -0.0\n",
            "Accuracy 0.5\n",
            "--------------------------------------------------------\n"
          ]
        },
        {
          "output_type": "display_data",
          "data": {
            "text/plain": [
              "<Figure size 800x800 with 1 Axes>"
            ],
            "image/png": "[encoded data removed]"
          },
          "metadata": {}
        },
        {
          "output_type": "stream",
          "name": "stdout",
          "text": [
            "Итерация: 420\n",
            "[ 2.54144764  5.91509851 14.09079014]\n",
            "[ 2.54644817  5.92996986 14.11855209]\n",
            "Logloss -0.0\n",
            "Accuracy 0.5\n",
            "--------------------------------------------------------\n"
          ]
        },
        {
          "output_type": "display_data",
          "data": {
            "text/plain": [
              "<Figure size 800x800 with 1 Axes>"
            ],
            "image/png": "[encoded data removed]"
          },
          "metadata": {}
        },
        {
          "output_type": "stream",
          "name": "stdout",
          "text": [
            "Итерация: 490\n",
            "[ 2.89148434  6.95609328 16.03412663]\n",
            "[ 2.89648486  6.97096464 16.06188858]\n",
            "Logloss -0.0\n",
            "Accuracy 0.5\n",
            "--------------------------------------------------------\n"
          ]
        },
        {
          "output_type": "display_data",
          "data": {
            "text/plain": [
              "<Figure size 800x800 with 1 Axes>"
            ],
            "image/png": "[encoded data removed]"
          },
          "metadata": {}
        }
      ]
    },
    {
      "cell_type": "code",
      "source": [
        "\n",
        "from sklearn.linear_model import LogisticRegression\n",
        "\n",
        "from sklearn.model_selection import train_test_split\n",
        "\n",
        "model = LogisticRegression(max_iter=500)"
      ],
      "metadata": {
        "id": "p-_DbxeTZjxe"
      },
      "execution_count": 40,
      "outputs": []
    },
    {
      "cell_type": "code",
      "source": [
        "y = pd.Series(data = np.ravel(y))\n",
        "X,y"
      ],
      "metadata": {
        "colab": {
          "base_uri": "https://localhost:8080/"
        },
        "id": "j8dyPSiDZ-MG",
        "outputId": "b592e564-c045-4a98-9ee7-d311d68663ff"
      },
      "execution_count": 54,
      "outputs": [
        {
          "output_type": "execute_result",
          "data": {
            "text/plain": [
              "(array([[1. , 3.2, 4.7],\n",
              "        [1. , 3.2, 4.5],\n",
              "        [1. , 3.1, 4.9],\n",
              "        [1. , 2.3, 4. ],\n",
              "        [1. , 2.8, 4.6],\n",
              "        [1. , 2.8, 4.5],\n",
              "        [1. , 3.3, 4.7],\n",
              "        [1. , 2.4, 3.3],\n",
              "        [1. , 2.9, 4.6],\n",
              "        [1. , 2.7, 3.9],\n",
              "        [1. , 2. , 3.5],\n",
              "        [1. , 3. , 4.2],\n",
              "        [1. , 2.2, 4. ],\n",
              "        [1. , 2.9, 4.7],\n",
              "        [1. , 2.9, 3.6],\n",
              "        [1. , 3.1, 4.4],\n",
              "        [1. , 3. , 4.5],\n",
              "        [1. , 2.7, 4.1],\n",
              "        [1. , 2.2, 4.5],\n",
              "        [1. , 2.5, 3.9],\n",
              "        [1. , 3.2, 4.8],\n",
              "        [1. , 2.8, 4. ],\n",
              "        [1. , 2.5, 4.9],\n",
              "        [1. , 2.8, 4.7],\n",
              "        [1. , 2.9, 4.3],\n",
              "        [1. , 3. , 4.4],\n",
              "        [1. , 2.8, 4.8],\n",
              "        [1. , 3. , 5. ],\n",
              "        [1. , 2.9, 4.5],\n",
              "        [1. , 2.6, 3.5],\n",
              "        [1. , 2.4, 3.8],\n",
              "        [1. , 2.4, 3.7],\n",
              "        [1. , 2.7, 3.9],\n",
              "        [1. , 2.7, 5.1],\n",
              "        [1. , 3. , 4.5],\n",
              "        [1. , 3.4, 4.5],\n",
              "        [1. , 3.1, 4.7],\n",
              "        [1. , 2.3, 4.4],\n",
              "        [1. , 3. , 4.1],\n",
              "        [1. , 2.5, 4. ],\n",
              "        [1. , 2.6, 4.4],\n",
              "        [1. , 3. , 4.6],\n",
              "        [1. , 2.6, 4. ],\n",
              "        [1. , 2.3, 3.3],\n",
              "        [1. , 2.7, 4.2],\n",
              "        [1. , 3. , 4.2],\n",
              "        [1. , 2.9, 4.2],\n",
              "        [1. , 2.9, 4.3],\n",
              "        [1. , 2.5, 3. ],\n",
              "        [1. , 2.8, 4.1],\n",
              "        [1. , 3.3, 6. ],\n",
              "        [1. , 2.7, 5.1],\n",
              "        [1. , 3. , 5.9],\n",
              "        [1. , 2.9, 5.6],\n",
              "        [1. , 3. , 5.8],\n",
              "        [1. , 3. , 6.6],\n",
              "        [1. , 2.5, 4.5],\n",
              "        [1. , 2.9, 6.3],\n",
              "        [1. , 2.5, 5.8],\n",
              "        [1. , 3.6, 6.1],\n",
              "        [1. , 3.2, 5.1],\n",
              "        [1. , 2.7, 5.3],\n",
              "        [1. , 3. , 5.5],\n",
              "        [1. , 2.5, 5. ],\n",
              "        [1. , 2.8, 5.1],\n",
              "        [1. , 3.2, 5.3],\n",
              "        [1. , 3. , 5.5],\n",
              "        [1. , 3.8, 6.7],\n",
              "        [1. , 2.6, 6.9],\n",
              "        [1. , 2.2, 5. ],\n",
              "        [1. , 3.2, 5.7],\n",
              "        [1. , 2.8, 4.9],\n",
              "        [1. , 2.8, 6.7],\n",
              "        [1. , 2.7, 4.9],\n",
              "        [1. , 3.3, 5.7],\n",
              "        [1. , 3.2, 6. ],\n",
              "        [1. , 2.8, 4.8],\n",
              "        [1. , 3. , 4.9],\n",
              "        [1. , 2.8, 5.6],\n",
              "        [1. , 3. , 5.8],\n",
              "        [1. , 2.8, 6.1],\n",
              "        [1. , 3.8, 6.4],\n",
              "        [1. , 2.8, 5.6],\n",
              "        [1. , 2.8, 5.1],\n",
              "        [1. , 2.6, 5.6],\n",
              "        [1. , 3. , 6.1],\n",
              "        [1. , 3.4, 5.6],\n",
              "        [1. , 3.1, 5.5],\n",
              "        [1. , 3. , 4.8],\n",
              "        [1. , 3.1, 5.4],\n",
              "        [1. , 3.1, 5.6],\n",
              "        [1. , 3.1, 5.1],\n",
              "        [1. , 2.7, 5.1],\n",
              "        [1. , 3.2, 5.9],\n",
              "        [1. , 3.3, 5.7],\n",
              "        [1. , 3. , 5.2],\n",
              "        [1. , 2.5, 5. ],\n",
              "        [1. , 3. , 5.2],\n",
              "        [1. , 3.4, 5.4],\n",
              "        [1. , 3. , 5.1]]),\n",
              " 0     0\n",
              " 1     0\n",
              " 2     0\n",
              " 3     0\n",
              " 4     0\n",
              "      ..\n",
              " 95    1\n",
              " 96    1\n",
              " 97    1\n",
              " 98    1\n",
              " 99    1\n",
              " Length: 100, dtype: int64)"
            ]
          },
          "metadata": {},
          "execution_count": 54
        }
      ]
    },
    {
      "cell_type": "code",
      "metadata": {
        "id": "3N9AX5_gG8mt"
      },
      "source": [
        "X_train, X_test, y_train, y_test = train_test_split(X, y, test_size=0.2, random_state=42)"
      ],
      "execution_count": 56,
      "outputs": []
    },
    {
      "cell_type": "code",
      "metadata": {
        "id": "LUjFaNd5G8mt",
        "colab": {
          "base_uri": "https://localhost:8080/",
          "height": 80
        },
        "outputId": "c8fe3883-60ce-4695-e11d-969c2200b36f"
      },
      "source": [
        "# обучаем на части датасета (train)\n",
        "\n",
        "model.fit(X_train, y_train)\n"
      ],
      "execution_count": 57,
      "outputs": [
        {
          "output_type": "execute_result",
          "data": {
            "text/plain": [
              "LogisticRegression(max_iter=500)"
            ],
            "text/html": [
              "<style>#sk-container-id-1 {\n",
              "  /* Definition of color scheme common for light and dark mode */\n",
              "  --sklearn-color-text: #000;\n",
              "  --sklearn-color-text-muted: #666;\n",
              "  --sklearn-color-line: gray;\n",
              "  /* Definition of color scheme for unfitted estimators */\n",
              "  --sklearn-color-unfitted-level-0: #fff5e6;\n",
              "  --sklearn-color-unfitted-level-1: #f6e4d2;\n",
              "  --sklearn-color-unfitted-level-2: #ffe0b3;\n",
              "  --sklearn-color-unfitted-level-3: chocolate;\n",
              "  /* Definition of color scheme for fitted estimators */\n",
              "  --sklearn-color-fitted-level-0: #f0f8ff;\n",
              "  --sklearn-color-fitted-level-1: #d4ebff;\n",
              "  --sklearn-color-fitted-level-2: #b3dbfd;\n",
              "  --sklearn-color-fitted-level-3: cornflowerblue;\n",
              "\n",
              "  /* Specific color for light theme */\n",
              "  --sklearn-color-text-on-default-background: var(--sg-text-color, var(--theme-code-foreground, var(--jp-content-font-color1, black)));\n",
              "  --sklearn-color-background: var(--sg-background-color, var(--theme-background, var(--jp-layout-color0, white)));\n",
              "  --sklearn-color-border-box: var(--sg-text-color, var(--theme-code-foreground, var(--jp-content-font-color1, black)));\n",
              "  --sklearn-color-icon: #696969;\n",
              "\n",
              "  @media (prefers-color-scheme: dark) {\n",
              "    /* Redefinition of color scheme for dark theme */\n",
              "    --sklearn-color-text-on-default-background: var(--sg-text-color, var(--theme-code-foreground, var(--jp-content-font-color1, white)));\n",
              "    --sklearn-color-background: var(--sg-background-color, var(--theme-background, var(--jp-layout-color0, #111)));\n",
              "    --sklearn-color-border-box: var(--sg-text-color, var(--theme-code-foreground, var(--jp-content-font-color1, white)));\n",
              "    --sklearn-color-icon: #878787;\n",
              "  }\n",
              "}\n",
              "\n",
              "#sk-container-id-1 {\n",
              "  color: var(--sklearn-color-text);\n",
              "}\n",
              "\n",
              "#sk-container-id-1 pre {\n",
              "  padding: 0;\n",
              "}\n",
              "\n",
              "#sk-container-id-1 input.sk-hidden--visually {\n",
              "  border: 0;\n",
              "  clip: rect(1px 1px 1px 1px);\n",
              "  clip: rect(1px, 1px, 1px, 1px);\n",
              "  height: 1px;\n",
              "  margin: -1px;\n",
              "  overflow: hidden;\n",
              "  padding: 0;\n",
              "  position: absolute;\n",
              "  width: 1px;\n",
              "}\n",
              "\n",
              "#sk-container-id-1 div.sk-dashed-wrapped {\n",
              "  border: 1px dashed var(--sklearn-color-line);\n",
              "  margin: 0 0.4em 0.5em 0.4em;\n",
              "  box-sizing: border-box;\n",
              "  padding-bottom: 0.4em;\n",
              "  background-color: var(--sklearn-color-background);\n",
              "}\n",
              "\n",
              "#sk-container-id-1 div.sk-container {\n",
              "  /* jupyter's `normalize.less` sets `[hidden] { display: none; }`\n",
              "     but bootstrap.min.css set `[hidden] { display: none !important; }`\n",
              "     so we also need the `!important` here to be able to override the\n",
              "     default hidden behavior on the sphinx rendered scikit-learn.org.\n",
              "     See: https://github.com/scikit-learn/scikit-learn/issues/21755 */\n",
              "  display: inline-block !important;\n",
              "  position: relative;\n",
              "}\n",
              "\n",
              "#sk-container-id-1 div.sk-text-repr-fallback {\n",
              "  display: none;\n",
              "}\n",
              "\n",
              "div.sk-parallel-item,\n",
              "div.sk-serial,\n",
              "div.sk-item {\n",
              "  /* draw centered vertical line to link estimators */\n",
              "  background-image: linear-gradient(var(--sklearn-color-text-on-default-background), var(--sklearn-color-text-on-default-background));\n",
              "  background-size: 2px 100%;\n",
              "  background-repeat: no-repeat;\n",
              "  background-position: center center;\n",
              "}\n",
              "\n",
              "/* Parallel-specific style estimator block */\n",
              "\n",
              "#sk-container-id-1 div.sk-parallel-item::after {\n",
              "  content: \"\";\n",
              "  width: 100%;\n",
              "  border-bottom: 2px solid var(--sklearn-color-text-on-default-background);\n",
              "  flex-grow: 1;\n",
              "}\n",
              "\n",
              "#sk-container-id-1 div.sk-parallel {\n",
              "  display: flex;\n",
              "  align-items: stretch;\n",
              "  justify-content: center;\n",
              "  background-color: var(--sklearn-color-background);\n",
              "  position: relative;\n",
              "}\n",
              "\n",
              "#sk-container-id-1 div.sk-parallel-item {\n",
              "  display: flex;\n",
              "  flex-direction: column;\n",
              "}\n",
              "\n",
              "#sk-container-id-1 div.sk-parallel-item:first-child::after {\n",
              "  align-self: flex-end;\n",
              "  width: 50%;\n",
              "}\n",
              "\n",
              "#sk-container-id-1 div.sk-parallel-item:last-child::after {\n",
              "  align-self: flex-start;\n",
              "  width: 50%;\n",
              "}\n",
              "\n",
              "#sk-container-id-1 div.sk-parallel-item:only-child::after {\n",
              "  width: 0;\n",
              "}\n",
              "\n",
              "/* Serial-specific style estimator block */\n",
              "\n",
              "#sk-container-id-1 div.sk-serial {\n",
              "  display: flex;\n",
              "  flex-direction: column;\n",
              "  align-items: center;\n",
              "  background-color: var(--sklearn-color-background);\n",
              "  padding-right: 1em;\n",
              "  padding-left: 1em;\n",
              "}\n",
              "\n",
              "\n",
              "/* Toggleable style: style used for estimator/Pipeline/ColumnTransformer box that is\n",
              "clickable and can be expanded/collapsed.\n",
              "- Pipeline and ColumnTransformer use this feature and define the default style\n",
              "- Estimators will overwrite some part of the style using the `sk-estimator` class\n",
              "*/\n",
              "\n",
              "/* Pipeline and ColumnTransformer style (default) */\n",
              "\n",
              "#sk-container-id-1 div.sk-toggleable {\n",
              "  /* Default theme specific background. It is overwritten whether we have a\n",
              "  specific estimator or a Pipeline/ColumnTransformer */\n",
              "  background-color: var(--sklearn-color-background);\n",
              "}\n",
              "\n",
              "/* Toggleable label */\n",
              "#sk-container-id-1 label.sk-toggleable__label {\n",
              "  cursor: pointer;\n",
              "  display: flex;\n",
              "  width: 100%;\n",
              "  margin-bottom: 0;\n",
              "  padding: 0.5em;\n",
              "  box-sizing: border-box;\n",
              "  text-align: center;\n",
              "  align-items: start;\n",
              "  justify-content: space-between;\n",
              "  gap: 0.5em;\n",
              "}\n",
              "\n",
              "#sk-container-id-1 label.sk-toggleable__label .caption {\n",
              "  font-size: 0.6rem;\n",
              "  font-weight: lighter;\n",
              "  color: var(--sklearn-color-text-muted);\n",
              "}\n",
              "\n",
              "#sk-container-id-1 label.sk-toggleable__label-arrow:before {\n",
              "  /* Arrow on the left of the label */\n",
              "  content: \"▸\";\n",
              "  float: left;\n",
              "  margin-right: 0.25em;\n",
              "  color: var(--sklearn-color-icon);\n",
              "}\n",
              "\n",
              "#sk-container-id-1 label.sk-toggleable__label-arrow:hover:before {\n",
              "  color: var(--sklearn-color-text);\n",
              "}\n",
              "\n",
              "/* Toggleable content - dropdown */\n",
              "\n",
              "#sk-container-id-1 div.sk-toggleable__content {\n",
              "  max-height: 0;\n",
              "  max-width: 0;\n",
              "  overflow: hidden;\n",
              "  text-align: left;\n",
              "  /* unfitted */\n",
              "  background-color: var(--sklearn-color-unfitted-level-0);\n",
              "}\n",
              "\n",
              "#sk-container-id-1 div.sk-toggleable__content.fitted {\n",
              "  /* fitted */\n",
              "  background-color: var(--sklearn-color-fitted-level-0);\n",
              "}\n",
              "\n",
              "#sk-container-id-1 div.sk-toggleable__content pre {\n",
              "  margin: 0.2em;\n",
              "  border-radius: 0.25em;\n",
              "  color: var(--sklearn-color-text);\n",
              "  /* unfitted */\n",
              "  background-color: var(--sklearn-color-unfitted-level-0);\n",
              "}\n",
              "\n",
              "#sk-container-id-1 div.sk-toggleable__content.fitted pre {\n",
              "  /* unfitted */\n",
              "  background-color: var(--sklearn-color-fitted-level-0);\n",
              "}\n",
              "\n",
              "#sk-container-id-1 input.sk-toggleable__control:checked~div.sk-toggleable__content {\n",
              "  /* Expand drop-down */\n",
              "  max-height: 200px;\n",
              "  max-width: 100%;\n",
              "  overflow: auto;\n",
              "}\n",
              "\n",
              "#sk-container-id-1 input.sk-toggleable__control:checked~label.sk-toggleable__label-arrow:before {\n",
              "  content: \"▾\";\n",
              "}\n",
              "\n",
              "/* Pipeline/ColumnTransformer-specific style */\n",
              "\n",
              "#sk-container-id-1 div.sk-label input.sk-toggleable__control:checked~label.sk-toggleable__label {\n",
              "  color: var(--sklearn-color-text);\n",
              "  background-color: var(--sklearn-color-unfitted-level-2);\n",
              "}\n",
              "\n",
              "#sk-container-id-1 div.sk-label.fitted input.sk-toggleable__control:checked~label.sk-toggleable__label {\n",
              "  background-color: var(--sklearn-color-fitted-level-2);\n",
              "}\n",
              "\n",
              "/* Estimator-specific style */\n",
              "\n",
              "/* Colorize estimator box */\n",
              "#sk-container-id-1 div.sk-estimator input.sk-toggleable__control:checked~label.sk-toggleable__label {\n",
              "  /* unfitted */\n",
              "  background-color: var(--sklearn-color-unfitted-level-2);\n",
              "}\n",
              "\n",
              "#sk-container-id-1 div.sk-estimator.fitted input.sk-toggleable__control:checked~label.sk-toggleable__label {\n",
              "  /* fitted */\n",
              "  background-color: var(--sklearn-color-fitted-level-2);\n",
              "}\n",
              "\n",
              "#sk-container-id-1 div.sk-label label.sk-toggleable__label,\n",
              "#sk-container-id-1 div.sk-label label {\n",
              "  /* The background is the default theme color */\n",
              "  color: var(--sklearn-color-text-on-default-background);\n",
              "}\n",
              "\n",
              "/* On hover, darken the color of the background */\n",
              "#sk-container-id-1 div.sk-label:hover label.sk-toggleable__label {\n",
              "  color: var(--sklearn-color-text);\n",
              "  background-color: var(--sklearn-color-unfitted-level-2);\n",
              "}\n",
              "\n",
              "/* Label box, darken color on hover, fitted */\n",
              "#sk-container-id-1 div.sk-label.fitted:hover label.sk-toggleable__label.fitted {\n",
              "  color: var(--sklearn-color-text);\n",
              "  background-color: var(--sklearn-color-fitted-level-2);\n",
              "}\n",
              "\n",
              "/* Estimator label */\n",
              "\n",
              "#sk-container-id-1 div.sk-label label {\n",
              "  font-family: monospace;\n",
              "  font-weight: bold;\n",
              "  display: inline-block;\n",
              "  line-height: 1.2em;\n",
              "}\n",
              "\n",
              "#sk-container-id-1 div.sk-label-container {\n",
              "  text-align: center;\n",
              "}\n",
              "\n",
              "/* Estimator-specific */\n",
              "#sk-container-id-1 div.sk-estimator {\n",
              "  font-family: monospace;\n",
              "  border: 1px dotted var(--sklearn-color-border-box);\n",
              "  border-radius: 0.25em;\n",
              "  box-sizing: border-box;\n",
              "  margin-bottom: 0.5em;\n",
              "  /* unfitted */\n",
              "  background-color: var(--sklearn-color-unfitted-level-0);\n",
              "}\n",
              "\n",
              "#sk-container-id-1 div.sk-estimator.fitted {\n",
              "  /* fitted */\n",
              "  background-color: var(--sklearn-color-fitted-level-0);\n",
              "}\n",
              "\n",
              "/* on hover */\n",
              "#sk-container-id-1 div.sk-estimator:hover {\n",
              "  /* unfitted */\n",
              "  background-color: var(--sklearn-color-unfitted-level-2);\n",
              "}\n",
              "\n",
              "#sk-container-id-1 div.sk-estimator.fitted:hover {\n",
              "  /* fitted */\n",
              "  background-color: var(--sklearn-color-fitted-level-2);\n",
              "}\n",
              "\n",
              "/* Specification for estimator info (e.g. \"i\" and \"?\") */\n",
              "\n",
              "/* Common style for \"i\" and \"?\" */\n",
              "\n",
              ".sk-estimator-doc-link,\n",
              "a:link.sk-estimator-doc-link,\n",
              "a:visited.sk-estimator-doc-link {\n",
              "  float: right;\n",
              "  font-size: smaller;\n",
              "  line-height: 1em;\n",
              "  font-family: monospace;\n",
              "  background-color: var(--sklearn-color-background);\n",
              "  border-radius: 1em;\n",
              "  height: 1em;\n",
              "  width: 1em;\n",
              "  text-decoration: none !important;\n",
              "  margin-left: 0.5em;\n",
              "  text-align: center;\n",
              "  /* unfitted */\n",
              "  border: var(--sklearn-color-unfitted-level-1) 1pt solid;\n",
              "  color: var(--sklearn-color-unfitted-level-1);\n",
              "}\n",
              "\n",
              ".sk-estimator-doc-link.fitted,\n",
              "a:link.sk-estimator-doc-link.fitted,\n",
              "a:visited.sk-estimator-doc-link.fitted {\n",
              "  /* fitted */\n",
              "  border: var(--sklearn-color-fitted-level-1) 1pt solid;\n",
              "  color: var(--sklearn-color-fitted-level-1);\n",
              "}\n",
              "\n",
              "/* On hover */\n",
              "div.sk-estimator:hover .sk-estimator-doc-link:hover,\n",
              ".sk-estimator-doc-link:hover,\n",
              "div.sk-label-container:hover .sk-estimator-doc-link:hover,\n",
              ".sk-estimator-doc-link:hover {\n",
              "  /* unfitted */\n",
              "  background-color: var(--sklearn-color-unfitted-level-3);\n",
              "  color: var(--sklearn-color-background);\n",
              "  text-decoration: none;\n",
              "}\n",
              "\n",
              "div.sk-estimator.fitted:hover .sk-estimator-doc-link.fitted:hover,\n",
              ".sk-estimator-doc-link.fitted:hover,\n",
              "div.sk-label-container:hover .sk-estimator-doc-link.fitted:hover,\n",
              ".sk-estimator-doc-link.fitted:hover {\n",
              "  /* fitted */\n",
              "  background-color: var(--sklearn-color-fitted-level-3);\n",
              "  color: var(--sklearn-color-background);\n",
              "  text-decoration: none;\n",
              "}\n",
              "\n",
              "/* Span, style for the box shown on hovering the info icon */\n",
              ".sk-estimator-doc-link span {\n",
              "  display: none;\n",
              "  z-index: 9999;\n",
              "  position: relative;\n",
              "  font-weight: normal;\n",
              "  right: .2ex;\n",
              "  padding: .5ex;\n",
              "  margin: .5ex;\n",
              "  width: min-content;\n",
              "  min-width: 20ex;\n",
              "  max-width: 50ex;\n",
              "  color: var(--sklearn-color-text);\n",
              "  box-shadow: 2pt 2pt 4pt #999;\n",
              "  /* unfitted */\n",
              "  background: var(--sklearn-color-unfitted-level-0);\n",
              "  border: .5pt solid var(--sklearn-color-unfitted-level-3);\n",
              "}\n",
              "\n",
              ".sk-estimator-doc-link.fitted span {\n",
              "  /* fitted */\n",
              "  background: var(--sklearn-color-fitted-level-0);\n",
              "  border: var(--sklearn-color-fitted-level-3);\n",
              "}\n",
              "\n",
              ".sk-estimator-doc-link:hover span {\n",
              "  display: block;\n",
              "}\n",
              "\n",
              "/* \"?\"-specific style due to the `<a>` HTML tag */\n",
              "\n",
              "#sk-container-id-1 a.estimator_doc_link {\n",
              "  float: right;\n",
              "  font-size: 1rem;\n",
              "  line-height: 1em;\n",
              "  font-family: monospace;\n",
              "  background-color: var(--sklearn-color-background);\n",
              "  border-radius: 1rem;\n",
              "  height: 1rem;\n",
              "  width: 1rem;\n",
              "  text-decoration: none;\n",
              "  /* unfitted */\n",
              "  color: var(--sklearn-color-unfitted-level-1);\n",
              "  border: var(--sklearn-color-unfitted-level-1) 1pt solid;\n",
              "}\n",
              "\n",
              "#sk-container-id-1 a.estimator_doc_link.fitted {\n",
              "  /* fitted */\n",
              "  border: var(--sklearn-color-fitted-level-1) 1pt solid;\n",
              "  color: var(--sklearn-color-fitted-level-1);\n",
              "}\n",
              "\n",
              "/* On hover */\n",
              "#sk-container-id-1 a.estimator_doc_link:hover {\n",
              "  /* unfitted */\n",
              "  background-color: var(--sklearn-color-unfitted-level-3);\n",
              "  color: var(--sklearn-color-background);\n",
              "  text-decoration: none;\n",
              "}\n",
              "\n",
              "#sk-container-id-1 a.estimator_doc_link.fitted:hover {\n",
              "  /* fitted */\n",
              "  background-color: var(--sklearn-color-fitted-level-3);\n",
              "}\n",
              "</style><div id=\"sk-container-id-1\" class=\"sk-top-container\"><div class=\"sk-text-repr-fallback\"><pre>LogisticRegression(max_iter=500)</pre><b>In a Jupyter environment, please rerun this cell to show the HTML representation or trust the notebook. <br />On GitHub, the HTML representation is unable to render, please try loading this page with nbviewer.org.</b></div><div class=\"sk-container\" hidden><div class=\"sk-item\"><div class=\"sk-estimator fitted sk-toggleable\"><input class=\"sk-toggleable__control sk-hidden--visually\" id=\"sk-estimator-id-1\" type=\"checkbox\" checked><label for=\"sk-estimator-id-1\" class=\"sk-toggleable__label fitted sk-toggleable__label-arrow\"><div><div>LogisticRegression</div></div><div><a class=\"sk-estimator-doc-link fitted\" rel=\"noreferrer\" target=\"_blank\" href=\"https://scikit-learn.org/1.6/modules/generated/sklearn.linear_model.LogisticRegression.html\">?<span>Documentation for LogisticRegression</span></a><span class=\"sk-estimator-doc-link fitted\">i<span>Fitted</span></span></div></label><div class=\"sk-toggleable__content fitted\"><pre>LogisticRegression(max_iter=500)</pre></div> </div></div></div></div>"
            ]
          },
          "metadata": {},
          "execution_count": 57
        }
      ]
    },
    {
      "cell_type": "code",
      "source": [
        "predictions0 = model.predict(X_test)"
      ],
      "metadata": {
        "id": "WjjmkVKY1Fo9"
      },
      "execution_count": 58,
      "outputs": []
    },
    {
      "cell_type": "code",
      "source": [
        "predictions = model.predict_proba(X_test)"
      ],
      "metadata": {
        "id": "EiRoBMeQvTJA"
      },
      "execution_count": 59,
      "outputs": []
    },
    {
      "cell_type": "markdown",
      "metadata": {
        "id": "JnfK25uaG8mu"
      },
      "source": [
        "<p>Получаем наш скор (точность предсказания) на обучающей и тестовой выборках.</p>"
      ]
    },
    {
      "cell_type": "code",
      "metadata": {
        "colab": {
          "base_uri": "https://localhost:8080/"
        },
        "id": "ZfgDEyzHG8mv",
        "outputId": "140f2af8-b2bb-4210-b233-49eef7b7773a"
      },
      "source": [
        "model.score(X_train, y_train)"
      ],
      "execution_count": 60,
      "outputs": [
        {
          "output_type": "execute_result",
          "data": {
            "text/plain": [
              "0.9625"
            ]
          },
          "metadata": {},
          "execution_count": 60
        }
      ]
    },
    {
      "cell_type": "code",
      "metadata": {
        "colab": {
          "base_uri": "https://localhost:8080/"
        },
        "id": "LcaZGtL4G8mv",
        "outputId": "835c0559-3eff-4f31-d6c1-dce0e9b1fcf4"
      },
      "source": [
        "model.score(X_test, y_test)"
      ],
      "execution_count": 61,
      "outputs": [
        {
          "output_type": "execute_result",
          "data": {
            "text/plain": [
              "0.85"
            ]
          },
          "metadata": {},
          "execution_count": 61
        }
      ]
    },
    {
      "cell_type": "markdown",
      "source": [
        "Считаем accuracy последней модели"
      ],
      "metadata": {
        "id": "GEB7fwwoneOr"
      }
    },
    {
      "cell_type": "code",
      "source": [
        "from sklearn.metrics import recall_score, precision_score, accuracy_score\n"
      ],
      "metadata": {
        "id": "Y0JIiRHWndLd"
      },
      "execution_count": 62,
      "outputs": []
    },
    {
      "cell_type": "code",
      "source": [
        "pred = model.predict(X_test)"
      ],
      "metadata": {
        "id": "yg6f7jt7nn3_"
      },
      "execution_count": 63,
      "outputs": []
    },
    {
      "cell_type": "code",
      "source": [
        "recall_score(y_test, pred), precision_score(y_test, pred)"
      ],
      "metadata": {
        "colab": {
          "base_uri": "https://localhost:8080/"
        },
        "id": "YE2PIW_TntI5",
        "outputId": "fc1bb3f2-a37c-40e0-ce01-fd78690ae5b2"
      },
      "execution_count": 64,
      "outputs": [
        {
          "output_type": "execute_result",
          "data": {
            "text/plain": [
              "(0.875, 0.7777777777777778)"
            ]
          },
          "metadata": {},
          "execution_count": 64
        }
      ]
    }
  ]
}